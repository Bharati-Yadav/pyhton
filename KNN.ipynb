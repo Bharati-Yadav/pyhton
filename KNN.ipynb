{
 "cells": [
  {
   "cell_type": "code",
   "execution_count": 1,
   "metadata": {},
   "outputs": [],
   "source": [
    "import numpy as np\n",
    "from math import sqrt"
   ]
  },
  {
   "cell_type": "code",
   "execution_count": 3,
   "metadata": {},
   "outputs": [],
   "source": [
    "c1= np.array([[2,3],[4,5]]) #First Cluster \n",
    "c2=np.array([[12,13],[14,15]])#Second cluster\n",
    "c = 8 # c and d is a new point and we have to find out this point is belongs to which cluster. \n",
    "d = 9\n",
    "dist = 0\n",
    "list_a = []#for storing the calculated distance of two points of first cluster \n",
    "list_b = []#for storing the calculated distance of two points of second cluster \n"
   ]
  },
  {
   "cell_type": "code",
   "execution_count": 5,
   "metadata": {},
   "outputs": [
    {
     "name": "stdout",
     "output_type": "stream",
     "text": [
      "[8.48528137423857, 5.656854249492381]\n",
      "[5.656854249492381, 8.48528137423857]\n",
      "[5.656854249492381, 5.656854249492381, 8.48528137423857, 8.48528137423857]\n"
     ]
    }
   ],
   "source": [
    "#here we calculate the distance \n",
    "for i in range(0,len(c1)):\n",
    "    j=0\n",
    "    a = sqrt((c1[i,j]-c)**2 + (c1[i,j+1]-d)**2)#formula for first cluster\n",
    "    list_a.append(a)#we append the result into list a\n",
    "    b = sqrt((c2[i,j]-c)**2 + (c2[i,j+1]-d)**2)#formula for second cluster\n",
    "    list_b.append(b)#we append the result into list b\n",
    "print(list_a)#here we printed list a and list b\n",
    "print(list_b)\n",
    "#then next task is we have to merge the this to list for sorting.\n",
    "list_c = list_a #so here we copy the list a into list c\n",
    "list_c.extend(list_b)#and here we extended list c with list b\n",
    "list_c.sort()#then we sort the list a in ascending order it's means we sorted the distance.\n",
    "print(list_c)#then print sorted distance"
   ]
  },
  {
   "cell_type": "code",
   "execution_count": 7,
   "metadata": {},
   "outputs": [
    {
     "name": "stdout",
     "output_type": "stream",
     "text": [
      "Enter the value of k\n",
      "3\n",
      "The point belongs to cluster1\n"
     ]
    }
   ],
   "source": [
    "#then next we have to take k value from user\n",
    "print(\"Enter the value of k\")\n",
    "k = int(input())#this is the function for getting the input from user\n",
    "x = 0\n",
    "y = 0\n",
    "#then we have to campare the list a which contain the distance of first cluster to new points with sorted distance list c upto k range\n",
    "#and same for second cluster.\n",
    "for m in range(0,k-1):\n",
    "    for n in range(0,len(list_a)-1):\n",
    "        if(list_a[n] == list_c[m]):\n",
    "            x = x + 1#if list a and list c contains same distance values the we have to increase x by 1.\n",
    "    for p in range(0,len(list_b)-1):\n",
    "        if(list_b[p] == list_c[m]):\n",
    "            y = y + 1 #list b and list c contains same distance values the we have to increase x by 1.\n",
    "#then we simply compare the x and y.\n",
    "if(x>y):   #if x greater than y the my new points(means value of c and d) belongs to cluster 1 otherwise cluster 2\n",
    "    print(\"The point belongs to cluster1\")\n",
    "elif(y>x):\n",
    "    print(\"The point belongs to cluster2\")\n"
   ]
  },
  {
   "cell_type": "code",
   "execution_count": null,
   "metadata": {},
   "outputs": [],
   "source": []
  }
 ],
 "metadata": {
  "kernelspec": {
   "display_name": "Python 3",
   "language": "python",
   "name": "python3"
  },
  "language_info": {
   "codemirror_mode": {
    "name": "ipython",
    "version": 3
   },
   "file_extension": ".py",
   "mimetype": "text/x-python",
   "name": "python",
   "nbconvert_exporter": "python",
   "pygments_lexer": "ipython3",
   "version": "3.7.3"
  }
 },
 "nbformat": 4,
 "nbformat_minor": 2
}
